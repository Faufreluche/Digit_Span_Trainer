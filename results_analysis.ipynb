{
 "cells": [
  {
   "cell_type": "markdown",
   "metadata": {},
   "source": [
    "### Import Libraries"
   ]
  },
  {
   "cell_type": "code",
   "execution_count": 1,
   "metadata": {},
   "outputs": [],
   "source": [
    "import os\n",
    "import pandas as pd"
   ]
  },
  {
   "cell_type": "markdown",
   "metadata": {},
   "source": [
    "### Read Data"
   ]
  },
  {
   "cell_type": "code",
   "execution_count": 2,
   "metadata": {},
   "outputs": [
    {
     "name": "stdout",
     "output_type": "stream",
     "text": [
      "['wager_digit_span_log.xlsx', 'werbler_digit_span_log.xlsx', 'wilder_digit_span_log.xlsx', 'wraight_digit_span_log.xlsx', 'wrangler_digit_span_log.xlsx']\n"
     ]
    }
   ],
   "source": [
    "# list all files in Analysis folder\n",
    "files = os.listdir('Analysis')\n",
    "print(files)"
   ]
  },
  {
   "cell_type": "code",
   "execution_count": 3,
   "metadata": {},
   "outputs": [],
   "source": [
    "# create empty dataframe\n",
    "df_merged_main = pd.DataFrame()\n",
    "\n",
    "# loop through all files in Analysis folder and merge them into one dataframe\n",
    "for file in files:\n",
    "    df = pd.read_excel('Analysis/' + file)\n",
    "    df_merged_main = pd.concat([df_merged_main, df], ignore_index=True)\n"
   ]
  }
 ],
 "metadata": {
  "kernelspec": {
   "display_name": "Python 3",
   "language": "python",
   "name": "python3"
  },
  "language_info": {
   "codemirror_mode": {
    "name": "ipython",
    "version": 3
   },
   "file_extension": ".py",
   "mimetype": "text/x-python",
   "name": "python",
   "nbconvert_exporter": "python",
   "pygments_lexer": "ipython3",
   "version": "3.11.2"
  }
 },
 "nbformat": 4,
 "nbformat_minor": 2
}
