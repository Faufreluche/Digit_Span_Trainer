{
 "cells": [
  {
   "cell_type": "markdown",
   "metadata": {},
   "source": [
    "### Import Libraries"
   ]
  },
  {
   "cell_type": "code",
   "execution_count": 1,
   "metadata": {},
   "outputs": [],
   "source": [
    "import os\n",
    "import pandas as pd"
   ]
  },
  {
   "cell_type": "markdown",
   "metadata": {},
   "source": [
    "### Read Data"
   ]
  },
  {
   "cell_type": "code",
   "execution_count": 2,
   "metadata": {},
   "outputs": [
    {
     "name": "stdout",
     "output_type": "stream",
     "text": [
      "['merged_main.xlsx', 'wager_digit_span_log.xlsx', 'werbler_digit_span_log.xlsx', 'wilder_digit_span_log.xlsx', 'wraight_digit_span_log.xlsx', 'wrangler_digit_span_log.xlsx']\n"
     ]
    }
   ],
   "source": [
    "# list all files in Analysis folder\n",
    "files = os.listdir('Analysis')\n",
    "print(files)"
   ]
  },
  {
   "cell_type": "code",
   "execution_count": 3,
   "metadata": {},
   "outputs": [],
   "source": [
    "# create empty dataframe\n",
    "df_merged_main = pd.DataFrame()\n",
    "\n",
    "# loop through all files in Analysis folder and merge them into one dataframe\n",
    "for file in files:\n",
    "    df = pd.read_excel('Analysis/' + file)\n",
    "    df_merged_main = pd.concat([df_merged_main, df], ignore_index=True)\n"
   ]
  },
  {
   "cell_type": "code",
   "execution_count": 4,
   "metadata": {},
   "outputs": [
    {
     "name": "stdout",
     "output_type": "stream",
     "text": [
      "<class 'pandas.core.frame.DataFrame'>\n",
      "RangeIndex: 12529 entries, 0 to 12528\n",
      "Data columns (total 22 columns):\n",
      " #   Column               Non-Null Count  Dtype         \n",
      "---  ------               --------------  -----         \n",
      " 0   user_name            12529 non-null  object        \n",
      " 1   date                 12529 non-null  datetime64[ns]\n",
      " 2   time                 12529 non-null  object        \n",
      " 3   session_nr           12529 non-null  int64         \n",
      " 4   loop_nr              12529 non-null  int64         \n",
      " 5   presented_sequence   12529 non-null  int64         \n",
      " 6   recalled_sequence    11361 non-null  object        \n",
      " 7   outcome              12529 non-null  object        \n",
      " 8   mistakes_in_a_row    12529 non-null  int64         \n",
      " 9   recall_time_in_s     12529 non-null  float64       \n",
      " 10  sound_model          12529 non-null  int64         \n",
      " 11  digit_length         12529 non-null  int64         \n",
      " 12  session_time         12529 non-null  object        \n",
      " 13  time_between_digits  12529 non-null  float64       \n",
      " 14  memory_method        12097 non-null  object        \n",
      " 15  tiredness            12529 non-null  int64         \n",
      " 16  physical_activity    12529 non-null  int64         \n",
      " 17  mental_state         12529 non-null  int64         \n",
      " 18  motivation           12529 non-null  int64         \n",
      " 19  location             12529 non-null  int64         \n",
      " 20  session_mode         12529 non-null  int64         \n",
      " 21  feedback             83 non-null     object        \n",
      "dtypes: datetime64[ns](1), float64(2), int64(12), object(7)\n",
      "memory usage: 2.1+ MB\n"
     ]
    }
   ],
   "source": [
    "df_merged_main.info()"
   ]
  },
  {
   "cell_type": "code",
   "execution_count": 19,
   "metadata": {},
   "outputs": [
    {
     "name": "stdout",
     "output_type": "stream",
     "text": [
      "[<class 'str'>]\n"
     ]
    }
   ],
   "source": [
    "# pop values from dataframe if type in colum recalled_sequence "
   ]
  },
  {
   "cell_type": "code",
   "execution_count": null,
   "metadata": {},
   "outputs": [],
   "source": [
    "# save the merged dataframe to a new excel file in the Analysis folder\n",
    "df_merged_main.to_excel('Analysis/merged_main.xlsx', index=False)"
   ]
  }
 ],
 "metadata": {
  "kernelspec": {
   "display_name": "Python 3",
   "language": "python",
   "name": "python3"
  },
  "language_info": {
   "codemirror_mode": {
    "name": "ipython",
    "version": 3
   },
   "file_extension": ".py",
   "mimetype": "text/x-python",
   "name": "python",
   "nbconvert_exporter": "python",
   "pygments_lexer": "ipython3",
   "version": "3.11.2"
  }
 },
 "nbformat": 4,
 "nbformat_minor": 2
}
